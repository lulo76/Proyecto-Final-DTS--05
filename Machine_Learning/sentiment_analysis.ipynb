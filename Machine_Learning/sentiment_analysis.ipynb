{
 "cells": [
  {
   "cell_type": "markdown",
   "id": "dcdeea93",
   "metadata": {},
   "source": [
    "## Importar bibliotecas"
   ]
  },
  {
   "cell_type": "code",
   "execution_count": 1,
   "id": "9286d122",
   "metadata": {},
   "outputs": [],
   "source": [
    "import numpy as np\n",
    "import pandas as pd \n",
    "import matplotlib.pyplot as plt\n",
    "from sqlalchemy import create_engine\n",
    "from sklearn.feature_extraction.text import CountVectorizer \n",
    "import string\n",
    "import unicodedata\n",
    "from sklearn.preprocessing import MinMaxScaler\n",
    "from sklearn.model_selection import train_test_split\n",
    "from sklearn.neural_network import MLPClassifier\n",
    "from sklearn.metrics import classification_report, recall_score, accuracy_score\n",
    "from sklearn.metrics import confusion_matrix\n",
    "from sklearn.model_selection import GridSearchCV\n",
    "from sklearn.model_selection import cross_val_score\n",
    "from sklearn.pipeline import Pipeline\n",
    "from gensim.test.utils import common_texts\n",
    "from gensim.models import Word2Vec\n",
    "from tensorflow import keras\n",
    "from tensorflow.keras.preprocessing.text import one_hot\n",
    "from tensorflow.keras.preprocessing.sequence import pad_sequences\n",
    "from tensorflow.keras import Sequential\n",
    "from tensorflow.keras import layers\n",
    "import pickle\n",
    "import warnings \n",
    "import os"
   ]
  },
  {
   "cell_type": "markdown",
   "id": "f02a24bf",
   "metadata": {},
   "source": [
    "## Cargar datos"
   ]
  },
  {
   "cell_type": "code",
   "execution_count": 2,
   "id": "9c9c7a55",
   "metadata": {},
   "outputs": [],
   "source": [
    "HOST = 'database-1.cjevabxalgu3.us-east-1.rds.amazonaws.com'\n",
    "PORT = 3306\n",
    "USER = 'admin'\n",
    "PASSWORD = ''\n",
    "DATABASE = 'olist'"
   ]
  },
  {
   "cell_type": "code",
   "execution_count": 3,
   "id": "90d50de3",
   "metadata": {},
   "outputs": [
    {
     "data": {
      "text/html": [
       "<div>\n",
       "<style scoped>\n",
       "    .dataframe tbody tr th:only-of-type {\n",
       "        vertical-align: middle;\n",
       "    }\n",
       "\n",
       "    .dataframe tbody tr th {\n",
       "        vertical-align: top;\n",
       "    }\n",
       "\n",
       "    .dataframe thead th {\n",
       "        text-align: right;\n",
       "    }\n",
       "</style>\n",
       "<table border=\"1\" class=\"dataframe\">\n",
       "  <thead>\n",
       "    <tr style=\"text-align: right;\">\n",
       "      <th></th>\n",
       "      <th>review_score</th>\n",
       "      <th>review_comment_message</th>\n",
       "    </tr>\n",
       "  </thead>\n",
       "  <tbody>\n",
       "    <tr>\n",
       "      <th>2</th>\n",
       "      <td>5</td>\n",
       "      <td>A entrega foi super rápida e o pendente é lind...</td>\n",
       "    </tr>\n",
       "    <tr>\n",
       "      <th>7</th>\n",
       "      <td>5</td>\n",
       "      <td>GOSTEI DA CAPINHA DE CELULAR, VEIO COMO EU ESP...</td>\n",
       "    </tr>\n",
       "    <tr>\n",
       "      <th>8</th>\n",
       "      <td>5</td>\n",
       "      <td>otimo produto. prazo cumprido. sabor tambem mu...</td>\n",
       "    </tr>\n",
       "    <tr>\n",
       "      <th>9</th>\n",
       "      <td>5</td>\n",
       "      <td>O produto foi entregue muito antes do esperado...</td>\n",
       "    </tr>\n",
       "    <tr>\n",
       "      <th>10</th>\n",
       "      <td>5</td>\n",
       "      <td>Bom eu já sabia que era,mas é muito bonito.rec...</td>\n",
       "    </tr>\n",
       "  </tbody>\n",
       "</table>\n",
       "</div>"
      ],
      "text/plain": [
       "    review_score                             review_comment_message\n",
       "2              5  A entrega foi super rápida e o pendente é lind...\n",
       "7              5  GOSTEI DA CAPINHA DE CELULAR, VEIO COMO EU ESP...\n",
       "8              5  otimo produto. prazo cumprido. sabor tambem mu...\n",
       "9              5  O produto foi entregue muito antes do esperado...\n",
       "10             5  Bom eu já sabia que era,mas é muito bonito.rec..."
      ]
     },
     "execution_count": 3,
     "metadata": {},
     "output_type": "execute_result"
    }
   ],
   "source": [
    "con = create_engine('mysql+pymysql://'+USER+':'+PASSWORD+'@'+HOST+':'+str(PORT)+'/'+DATABASE)\n",
    "sql = \"SELECT review_score, review_comment_message FROM reviews\"\n",
    "df = pd.read_sql_query(sql, con)\n",
    "df.drop(df[df['review_comment_message'] == 'Sin Dato'].index, inplace=True)\n",
    "df.head()"
   ]
  },
  {
   "cell_type": "code",
   "execution_count": 73,
   "id": "1dbc57a8",
   "metadata": {},
   "outputs": [
    {
     "data": {
      "text/html": [
       "<div>\n",
       "<style scoped>\n",
       "    .dataframe tbody tr th:only-of-type {\n",
       "        vertical-align: middle;\n",
       "    }\n",
       "\n",
       "    .dataframe tbody tr th {\n",
       "        vertical-align: top;\n",
       "    }\n",
       "\n",
       "    .dataframe thead th {\n",
       "        text-align: right;\n",
       "    }\n",
       "</style>\n",
       "<table border=\"1\" class=\"dataframe\">\n",
       "  <thead>\n",
       "    <tr style=\"text-align: right;\">\n",
       "      <th></th>\n",
       "      <th>review_score</th>\n",
       "      <th>review_comment_message</th>\n",
       "      <th>target</th>\n",
       "    </tr>\n",
       "  </thead>\n",
       "  <tbody>\n",
       "    <tr>\n",
       "      <th>2</th>\n",
       "      <td>5</td>\n",
       "      <td>A entrega foi super rápida e o pendente é lind...</td>\n",
       "      <td>1</td>\n",
       "    </tr>\n",
       "    <tr>\n",
       "      <th>7</th>\n",
       "      <td>5</td>\n",
       "      <td>GOSTEI DA CAPINHA DE CELULAR, VEIO COMO EU ESP...</td>\n",
       "      <td>1</td>\n",
       "    </tr>\n",
       "    <tr>\n",
       "      <th>8</th>\n",
       "      <td>5</td>\n",
       "      <td>otimo produto. prazo cumprido. sabor tambem mu...</td>\n",
       "      <td>1</td>\n",
       "    </tr>\n",
       "    <tr>\n",
       "      <th>9</th>\n",
       "      <td>5</td>\n",
       "      <td>O produto foi entregue muito antes do esperado...</td>\n",
       "      <td>1</td>\n",
       "    </tr>\n",
       "    <tr>\n",
       "      <th>10</th>\n",
       "      <td>5</td>\n",
       "      <td>Bom eu já sabia que era,mas é muito bonito.rec...</td>\n",
       "      <td>1</td>\n",
       "    </tr>\n",
       "  </tbody>\n",
       "</table>\n",
       "</div>"
      ],
      "text/plain": [
       "    review_score                             review_comment_message target\n",
       "2              5  A entrega foi super rápida e o pendente é lind...      1\n",
       "7              5  GOSTEI DA CAPINHA DE CELULAR, VEIO COMO EU ESP...      1\n",
       "8              5  otimo produto. prazo cumprido. sabor tambem mu...      1\n",
       "9              5  O produto foi entregue muito antes do esperado...      1\n",
       "10             5  Bom eu já sabia que era,mas é muito bonito.rec...      1"
      ]
     },
     "execution_count": 73,
     "metadata": {},
     "output_type": "execute_result"
    }
   ],
   "source": [
    "df['target'] = np.select((df['review_score'] < 3, df['review_score'] > 3, df['review_score'] == 3), [0,1,2], default='Not Specified')\n",
    "df.drop(df[df['target'] == '2'].index, inplace=True)\n",
    "df.head()"
   ]
  },
  {
   "cell_type": "markdown",
   "id": "392f882c",
   "metadata": {},
   "source": [
    "## Crear modelos de lenguaje"
   ]
  },
  {
   "cell_type": "code",
   "execution_count": 74,
   "id": "ec94d995",
   "metadata": {},
   "outputs": [],
   "source": [
    "def sentence_cleansing(sentence):\n",
    "    \n",
    "    sentence = sentence.strip()\n",
    "    sentence = sentence.lstrip()\n",
    "    sentence = sentence.rstrip()\n",
    "    sentence = sentence.lower() #convertir frase a minusculas\n",
    "    \n",
    "    sentence = ''.join((c for c in unicodedata.normalize('NFD',sentence) if unicodedata.category(c) != 'Mn'))\n",
    "    \n",
    "    for i in range(100):\n",
    "        sentence = sentence.replace('  ',' ')\n",
    "    \n",
    "    replacements = ''\n",
    "    for i in list(range(0,32))+list(range(33,97))+list(range(123,1000)):\n",
    "        sentence = sentence.replace(chr(i),'')\n",
    "                \n",
    "    # Quitar palabras que tinen una letra repetida mas de 3 veces y juntas \n",
    "    abc = string.ascii_lowercase\n",
    "    for word in sentence.split():\n",
    "        remove_word = False\n",
    "        for char in abc:\n",
    "            if word.find(3*char) != -1:\n",
    "                remove_word = True\n",
    "                break\n",
    "                \n",
    "        if (word.find('a') == -1 and \n",
    "            word.find('e') == -1 and \n",
    "            word.find('i') == -1 and \n",
    "            word.find('o') == -1 and \n",
    "            word.find('u') == -1):\n",
    "            remove_word = True\n",
    "                \n",
    "        if(remove_word):\n",
    "            index = sentence.find(word)\n",
    "            sentence = sentence[0:index] + sentence[index+len(word)+1:len(sentence)]\n",
    "    \n",
    "    sentence = sentence.strip()\n",
    "    sentence = sentence.lstrip()\n",
    "    sentence = sentence.rstrip()\n",
    "    \n",
    "    return sentence"
   ]
  },
  {
   "cell_type": "code",
   "execution_count": 6,
   "id": "4a372431",
   "metadata": {},
   "outputs": [],
   "source": [
    "def tokenize_sentences(sentences):\n",
    "        tokenized_sentences = []\n",
    "        for sentence in sentences:\n",
    "            tokenized_sentences.append(sentence.split())\n",
    "        return tokenized_sentences"
   ]
  },
  {
   "cell_type": "code",
   "execution_count": 7,
   "id": "090c22e1",
   "metadata": {},
   "outputs": [],
   "source": [
    "def vectorice_sentences(sentences, model):\n",
    "        vectoriced_sentences = []\n",
    "        for sentence in sentences:\n",
    "            vectoriced_sentence = []\n",
    "            for word in sentence:\n",
    "                if word in model.wv.key_to_index:\n",
    "                    vectoriced_sentence.append(model.wv.key_to_index[word])\n",
    "                else:\n",
    "                    vectoriced_sentence.append(0)\n",
    "            vectoriced_sentences.append(vectoriced_sentence)\n",
    "        return vectoriced_sentences"
   ]
  },
  {
   "cell_type": "markdown",
   "id": "b8f875ff",
   "metadata": {},
   "source": [
    "### CountVectorizer"
   ]
  },
  {
   "cell_type": "code",
   "execution_count": 75,
   "id": "3d7d8174",
   "metadata": {},
   "outputs": [],
   "source": [
    "df['review_comment_message'] = df['review_comment_message'].apply(sentence_cleansing)\n",
    "vectorizer = CountVectorizer(ngram_range=(1,1))\n",
    "X = vectorizer.fit_transform(df['review_comment_message']).toarray()\n",
    "y = df['target'].to_numpy().astype(int)"
   ]
  },
  {
   "cell_type": "code",
   "execution_count": 76,
   "id": "1ddf628e",
   "metadata": {},
   "outputs": [],
   "source": [
    "# Guardar vertorizer\n",
    "with open(\"./Models/vectorizer.pickle\", \"wb\") as f:\n",
    "    pickle.dump(vectorizer, f)"
   ]
  },
  {
   "cell_type": "code",
   "execution_count": 9,
   "id": "3a7b41c5",
   "metadata": {},
   "outputs": [],
   "source": [
    "X_train_vec, X_test_vec, y_train_vec, y_test_vec = train_test_split(X, y, test_size=0.3, random_state=42)"
   ]
  },
  {
   "cell_type": "code",
   "execution_count": 10,
   "id": "16a2d128",
   "metadata": {},
   "outputs": [],
   "source": [
    "del(X)\n",
    "del(y)"
   ]
  },
  {
   "cell_type": "markdown",
   "id": "32b2afae",
   "metadata": {},
   "source": [
    "### Word2Vect"
   ]
  },
  {
   "cell_type": "code",
   "execution_count": 68,
   "id": "39050688",
   "metadata": {},
   "outputs": [],
   "source": [
    "vector_size = 50\n",
    "\n",
    "df['review_comment_message'] = df['review_comment_message'].apply(sentence_cleansing)\n",
    "X_tokenized = tokenize_sentences(df['review_comment_message'])\n",
    "\n",
    "model_word2vect = Word2Vec(sentences=X_tokenized, vector_size=vector_size)\n",
    "\n",
    "X_vertoriced = vectorice_sentences(X_tokenized, model_word2vect)\n",
    "X_Word2Vect = pad_sequences(X_vertoriced, maxlen=vector_size)\n",
    "y = df['target'].to_numpy().astype(int)\n",
    "\n",
    "vocab_size = len(model_word2vect.wv.key_to_index)"
   ]
  },
  {
   "cell_type": "code",
   "execution_count": 69,
   "id": "419e13cc",
   "metadata": {},
   "outputs": [],
   "source": [
    "with open(\"./Models/Word2Vect.pickle\", \"wb\") as f:\n",
    "    pickle.dump(model_word2vect, f)"
   ]
  },
  {
   "cell_type": "code",
   "execution_count": 35,
   "id": "9fdb8fa8",
   "metadata": {},
   "outputs": [],
   "source": [
    "X_train_w2v, X_test_w2v, y_train_w2v, y_test_w2v = train_test_split(X_Word2Vect, y, test_size=0.3, random_state=42)"
   ]
  },
  {
   "cell_type": "code",
   "execution_count": null,
   "id": "ea8b84db",
   "metadata": {},
   "outputs": [],
   "source": [
    "del(X_Word2Vect)\n",
    "del(y)"
   ]
  },
  {
   "cell_type": "markdown",
   "id": "76538950",
   "metadata": {},
   "source": [
    "## Crear modelos de ML"
   ]
  },
  {
   "cell_type": "markdown",
   "id": "33a7146b",
   "metadata": {},
   "source": [
    "### MLP Classifier"
   ]
  },
  {
   "cell_type": "code",
   "execution_count": 11,
   "id": "9ec9f297",
   "metadata": {},
   "outputs": [
    {
     "data": {
      "text/html": [
       "<style>#sk-container-id-1 {color: black;background-color: white;}#sk-container-id-1 pre{padding: 0;}#sk-container-id-1 div.sk-toggleable {background-color: white;}#sk-container-id-1 label.sk-toggleable__label {cursor: pointer;display: block;width: 100%;margin-bottom: 0;padding: 0.3em;box-sizing: border-box;text-align: center;}#sk-container-id-1 label.sk-toggleable__label-arrow:before {content: \"▸\";float: left;margin-right: 0.25em;color: #696969;}#sk-container-id-1 label.sk-toggleable__label-arrow:hover:before {color: black;}#sk-container-id-1 div.sk-estimator:hover label.sk-toggleable__label-arrow:before {color: black;}#sk-container-id-1 div.sk-toggleable__content {max-height: 0;max-width: 0;overflow: hidden;text-align: left;background-color: #f0f8ff;}#sk-container-id-1 div.sk-toggleable__content pre {margin: 0.2em;color: black;border-radius: 0.25em;background-color: #f0f8ff;}#sk-container-id-1 input.sk-toggleable__control:checked~div.sk-toggleable__content {max-height: 200px;max-width: 100%;overflow: auto;}#sk-container-id-1 input.sk-toggleable__control:checked~label.sk-toggleable__label-arrow:before {content: \"▾\";}#sk-container-id-1 div.sk-estimator input.sk-toggleable__control:checked~label.sk-toggleable__label {background-color: #d4ebff;}#sk-container-id-1 div.sk-label input.sk-toggleable__control:checked~label.sk-toggleable__label {background-color: #d4ebff;}#sk-container-id-1 input.sk-hidden--visually {border: 0;clip: rect(1px 1px 1px 1px);clip: rect(1px, 1px, 1px, 1px);height: 1px;margin: -1px;overflow: hidden;padding: 0;position: absolute;width: 1px;}#sk-container-id-1 div.sk-estimator {font-family: monospace;background-color: #f0f8ff;border: 1px dotted black;border-radius: 0.25em;box-sizing: border-box;margin-bottom: 0.5em;}#sk-container-id-1 div.sk-estimator:hover {background-color: #d4ebff;}#sk-container-id-1 div.sk-parallel-item::after {content: \"\";width: 100%;border-bottom: 1px solid gray;flex-grow: 1;}#sk-container-id-1 div.sk-label:hover label.sk-toggleable__label {background-color: #d4ebff;}#sk-container-id-1 div.sk-serial::before {content: \"\";position: absolute;border-left: 1px solid gray;box-sizing: border-box;top: 0;bottom: 0;left: 50%;z-index: 0;}#sk-container-id-1 div.sk-serial {display: flex;flex-direction: column;align-items: center;background-color: white;padding-right: 0.2em;padding-left: 0.2em;position: relative;}#sk-container-id-1 div.sk-item {position: relative;z-index: 1;}#sk-container-id-1 div.sk-parallel {display: flex;align-items: stretch;justify-content: center;background-color: white;position: relative;}#sk-container-id-1 div.sk-item::before, #sk-container-id-1 div.sk-parallel-item::before {content: \"\";position: absolute;border-left: 1px solid gray;box-sizing: border-box;top: 0;bottom: 0;left: 50%;z-index: -1;}#sk-container-id-1 div.sk-parallel-item {display: flex;flex-direction: column;z-index: 1;position: relative;background-color: white;}#sk-container-id-1 div.sk-parallel-item:first-child::after {align-self: flex-end;width: 50%;}#sk-container-id-1 div.sk-parallel-item:last-child::after {align-self: flex-start;width: 50%;}#sk-container-id-1 div.sk-parallel-item:only-child::after {width: 0;}#sk-container-id-1 div.sk-dashed-wrapped {border: 1px dashed gray;margin: 0 0.4em 0.5em 0.4em;box-sizing: border-box;padding-bottom: 0.4em;background-color: white;}#sk-container-id-1 div.sk-label label {font-family: monospace;font-weight: bold;display: inline-block;line-height: 1.2em;}#sk-container-id-1 div.sk-label-container {text-align: center;}#sk-container-id-1 div.sk-container {/* jupyter's `normalize.less` sets `[hidden] { display: none; }` but bootstrap.min.css set `[hidden] { display: none !important; }` so we also need the `!important` here to be able to override the default hidden behavior on the sphinx rendered scikit-learn.org. See: https://github.com/scikit-learn/scikit-learn/issues/21755 */display: inline-block !important;position: relative;}#sk-container-id-1 div.sk-text-repr-fallback {display: none;}</style><div id=\"sk-container-id-1\" class=\"sk-top-container\"><div class=\"sk-text-repr-fallback\"><pre>GridSearchCV(cv=5,\n",
       "             estimator=Pipeline(steps=[(&#x27;scaler&#x27;, MinMaxScaler()),\n",
       "                                       (&#x27;mlp&#x27;,\n",
       "                                        MLPClassifier(max_iter=300,\n",
       "                                                      random_state=0))]),\n",
       "             param_grid={&#x27;mlp__hidden_layer_sizes&#x27;: [(50,), (100,), (50, 50)]},\n",
       "             scoring=&#x27;accuracy&#x27;)</pre><b>In a Jupyter environment, please rerun this cell to show the HTML representation or trust the notebook. <br />On GitHub, the HTML representation is unable to render, please try loading this page with nbviewer.org.</b></div><div class=\"sk-container\" hidden><div class=\"sk-item sk-dashed-wrapped\"><div class=\"sk-label-container\"><div class=\"sk-label sk-toggleable\"><input class=\"sk-toggleable__control sk-hidden--visually\" id=\"sk-estimator-id-1\" type=\"checkbox\" ><label for=\"sk-estimator-id-1\" class=\"sk-toggleable__label sk-toggleable__label-arrow\">GridSearchCV</label><div class=\"sk-toggleable__content\"><pre>GridSearchCV(cv=5,\n",
       "             estimator=Pipeline(steps=[(&#x27;scaler&#x27;, MinMaxScaler()),\n",
       "                                       (&#x27;mlp&#x27;,\n",
       "                                        MLPClassifier(max_iter=300,\n",
       "                                                      random_state=0))]),\n",
       "             param_grid={&#x27;mlp__hidden_layer_sizes&#x27;: [(50,), (100,), (50, 50)]},\n",
       "             scoring=&#x27;accuracy&#x27;)</pre></div></div></div><div class=\"sk-parallel\"><div class=\"sk-parallel-item\"><div class=\"sk-item\"><div class=\"sk-label-container\"><div class=\"sk-label sk-toggleable\"><input class=\"sk-toggleable__control sk-hidden--visually\" id=\"sk-estimator-id-2\" type=\"checkbox\" ><label for=\"sk-estimator-id-2\" class=\"sk-toggleable__label sk-toggleable__label-arrow\">estimator: Pipeline</label><div class=\"sk-toggleable__content\"><pre>Pipeline(steps=[(&#x27;scaler&#x27;, MinMaxScaler()),\n",
       "                (&#x27;mlp&#x27;, MLPClassifier(max_iter=300, random_state=0))])</pre></div></div></div><div class=\"sk-serial\"><div class=\"sk-item\"><div class=\"sk-serial\"><div class=\"sk-item\"><div class=\"sk-estimator sk-toggleable\"><input class=\"sk-toggleable__control sk-hidden--visually\" id=\"sk-estimator-id-3\" type=\"checkbox\" ><label for=\"sk-estimator-id-3\" class=\"sk-toggleable__label sk-toggleable__label-arrow\">MinMaxScaler</label><div class=\"sk-toggleable__content\"><pre>MinMaxScaler()</pre></div></div></div><div class=\"sk-item\"><div class=\"sk-estimator sk-toggleable\"><input class=\"sk-toggleable__control sk-hidden--visually\" id=\"sk-estimator-id-4\" type=\"checkbox\" ><label for=\"sk-estimator-id-4\" class=\"sk-toggleable__label sk-toggleable__label-arrow\">MLPClassifier</label><div class=\"sk-toggleable__content\"><pre>MLPClassifier(max_iter=300, random_state=0)</pre></div></div></div></div></div></div></div></div></div></div></div></div>"
      ],
      "text/plain": [
       "GridSearchCV(cv=5,\n",
       "             estimator=Pipeline(steps=[('scaler', MinMaxScaler()),\n",
       "                                       ('mlp',\n",
       "                                        MLPClassifier(max_iter=300,\n",
       "                                                      random_state=0))]),\n",
       "             param_grid={'mlp__hidden_layer_sizes': [(50,), (100,), (50, 50)]},\n",
       "             scoring='accuracy')"
      ]
     },
     "execution_count": 11,
     "metadata": {},
     "output_type": "execute_result"
    }
   ],
   "source": [
    "scaler = MinMaxScaler()\n",
    "model = MLPClassifier(activation='relu', max_iter=300, random_state=0)\n",
    "pipe = Pipeline([('scaler', scaler), ('mlp', model)])\n",
    "\n",
    "param_grid = {'mlp__hidden_layer_sizes': [(50,), (100,), (50, 50)]}\n",
    "\n",
    "mlp = GridSearchCV(pipe, param_grid, cv=5, scoring='accuracy')\n",
    "mlp.fit(X_train, y_train)"
   ]
  },
  {
   "cell_type": "code",
   "execution_count": null,
   "id": "6e377d6d",
   "metadata": {},
   "outputs": [],
   "source": [
    "scaler = MinMaxScaler()\n",
    "model = MLPClassifier((100,100),activation='relu', max_iter=300, random_state=0)\n",
    "mlp = Pipeline([('scaler', scaler), ('mlp', model)])\n",
    "mlp.fit(X_train_vec, y_train_vec)"
   ]
  },
  {
   "cell_type": "code",
   "execution_count": 12,
   "id": "1f71a03e",
   "metadata": {},
   "outputs": [
    {
     "name": "stdout",
     "output_type": "stream",
     "text": [
      "Train score:  0.9964226641535562\n",
      "Test score:  0.9109675103213067\n"
     ]
    }
   ],
   "source": [
    "print('Train score: ',mlp.score(X_train, y_train))\n",
    "print('Test score: ',mlp.score(X_test, y_test))"
   ]
  },
  {
   "cell_type": "code",
   "execution_count": 13,
   "id": "6d7091c7",
   "metadata": {},
   "outputs": [
    {
     "name": "stdout",
     "output_type": "stream",
     "text": [
      "              precision    recall  f1-score   support\n",
      "\n",
      "           0       0.85      0.84      0.84      3219\n",
      "           1       0.93      0.94      0.94      7923\n",
      "\n",
      "    accuracy                           0.91     11142\n",
      "   macro avg       0.89      0.89      0.89     11142\n",
      "weighted avg       0.91      0.91      0.91     11142\n",
      "\n"
     ]
    }
   ],
   "source": [
    "y_pred = mlp.predict(X_test)\n",
    "print(classification_report(y_test, y_pred))"
   ]
  },
  {
   "cell_type": "code",
   "execution_count": 14,
   "id": "f1374a1f",
   "metadata": {},
   "outputs": [
    {
     "data": {
      "image/png": "[encoded data removed]",
      "text/plain": [
       "<Figure size 400x300 with 2 Axes>"
      ]
     },
     "metadata": {},
     "output_type": "display_data"
    }
   ],
   "source": [
    "cm = confusion_matrix(y_test, y_pred)\n",
    "disp = ConfusionMatrixDisplay(confusion_matrix = cm, \n",
    "                              display_labels = ['No', 'Yes'])\n",
    "plt.rcParams[\"figure.figsize\"] = (4,3)\n",
    "disp.plot(cmap='Blues')\n",
    "plt.show()"
   ]
  },
  {
   "cell_type": "code",
   "execution_count": 15,
   "id": "7171df3d",
   "metadata": {},
   "outputs": [],
   "source": [
    "with open(\"./Models/MLPClassifier.pickle\", \"wb\") as f:\n",
    "    pickle.dump(mlp, f)"
   ]
  },
  {
   "cell_type": "markdown",
   "id": "9bf58af1",
   "metadata": {},
   "source": [
    "### CNN"
   ]
  },
  {
   "cell_type": "code",
   "execution_count": null,
   "id": "1b45f634",
   "metadata": {},
   "outputs": [],
   "source": [
    "keras.backend.clear_session()"
   ]
  },
  {
   "cell_type": "code",
   "execution_count": 36,
   "id": "3c2778a5",
   "metadata": {},
   "outputs": [],
   "source": [
    "model_cnn = Sequential()\n",
    "model_cnn.add(keras.Input(shape=(50,)))\n",
    "model_cnn.add(layers.Embedding(vocab_size, 256, input_length=50))\n",
    "model_cnn.add(layers.Conv1D(512, 10, padding=\"same\", activation=\"relu\"))\n",
    "model_cnn.add(layers.Conv1D(512, 5, padding=\"same\", activation=\"relu\"))\n",
    "model_cnn.add(layers.GlobalMaxPooling1D())\n",
    "model_cnn.add(layers.Dense(512, activation=\"relu\"))\n",
    "model_cnn.add(layers.Dropout(0.2))\n",
    "model_cnn.add(layers.Dense(1, activation=\"sigmoid\"))"
   ]
  },
  {
   "cell_type": "code",
   "execution_count": 38,
   "id": "0b61c940",
   "metadata": {},
   "outputs": [
    {
     "name": "stdout",
     "output_type": "stream",
     "text": [
      "Model: \"sequential_2\"\n",
      "_________________________________________________________________\n",
      " Layer (type)                Output Shape              Param #   \n",
      "=================================================================\n",
      " embedding_1 (Embedding)     (None, 50, 256)           829696    \n",
      "                                                                 \n",
      " conv1d_2 (Conv1D)           (None, 50, 512)           1311232   \n",
      "                                                                 \n",
      " conv1d_3 (Conv1D)           (None, 50, 512)           1311232   \n",
      "                                                                 \n",
      " global_max_pooling1d_1 (Glo  (None, 512)              0         \n",
      " balMaxPooling1D)                                                \n",
      "                                                                 \n",
      " dense_2 (Dense)             (None, 512)               262656    \n",
      "                                                                 \n",
      " dropout_1 (Dropout)         (None, 512)               0         \n",
      "                                                                 \n",
      " dense_3 (Dense)             (None, 1)                 513       \n",
      "                                                                 \n",
      "=================================================================\n",
      "Total params: 3,715,329\n",
      "Trainable params: 3,715,329\n",
      "Non-trainable params: 0\n",
      "_________________________________________________________________\n",
      "Epoch 1/5\n",
      "21/21 [==============================] - 250s 12s/step - loss: 0.4294 - accuracy: 0.7929 - val_loss: 0.2600 - val_accuracy: 0.9121\n",
      "Epoch 2/5\n",
      "21/21 [==============================] - 256s 12s/step - loss: 0.1949 - accuracy: 0.9275 - val_loss: 0.1987 - val_accuracy: 0.9262\n",
      "Epoch 3/5\n",
      "21/21 [==============================] - 258s 12s/step - loss: 0.1483 - accuracy: 0.9477 - val_loss: 0.1990 - val_accuracy: 0.9256\n",
      "Epoch 4/5\n",
      "21/21 [==============================] - 255s 12s/step - loss: 0.1179 - accuracy: 0.9608 - val_loss: 0.2269 - val_accuracy: 0.9208\n",
      "Epoch 5/5\n",
      "21/21 [==============================] - 255s 12s/step - loss: 0.0948 - accuracy: 0.9702 - val_loss: 0.2536 - val_accuracy: 0.9181\n"
     ]
    }
   ],
   "source": [
    "model_cnn.compile(loss=\"binary_crossentropy\", optimizer=\"adam\", metrics=[\"accuracy\"])\n",
    "model_cnn.summary()\n",
    "history_cnn = model_cnn.fit(X_train_w2v, y_train_w2v, validation_split=0.2, epochs=5, batch_size=1000)"
   ]
  },
  {
   "cell_type": "code",
   "execution_count": 48,
   "id": "fff72372",
   "metadata": {},
   "outputs": [
    {
     "name": "stdout",
     "output_type": "stream",
     "text": [
      "349/349 [==============================] - 23s 65ms/step\n"
     ]
    }
   ],
   "source": [
    "y_pred = model_cnn.predict(X_test_w2v) \n",
    "y_pred = np.transpose(np.round(y_pred).astype(int))[0]"
   ]
  },
  {
   "cell_type": "code",
   "execution_count": 49,
   "id": "5c996d89",
   "metadata": {},
   "outputs": [
    {
     "name": "stdout",
     "output_type": "stream",
     "text": [
      "              precision    recall  f1-score   support\n",
      "\n",
      "           0       0.87      0.86      0.86      3219\n",
      "           1       0.94      0.95      0.95      7923\n",
      "\n",
      "    accuracy                           0.92     11142\n",
      "   macro avg       0.91      0.90      0.90     11142\n",
      "weighted avg       0.92      0.92      0.92     11142\n",
      "\n",
      "\n"
     ]
    },
    {
     "data": {
      "image/png": "[encoded data removed]",
      "text/plain": [
       "<Figure size 400x300 with 2 Axes>"
      ]
     },
     "metadata": {},
     "output_type": "display_data"
    }
   ],
   "source": [
    "print(classification_report(y_test_w2v, y_pred))\n",
    "print()\n",
    "cm = confusion_matrix(y_test_w2v, y_pred)\n",
    "disp = ConfusionMatrixDisplay(confusion_matrix = cm, \n",
    "                              display_labels = ['Negativo', 'Positivo'])\n",
    "plt.rcParams[\"figure.figsize\"] = (4,3)\n",
    "disp.plot(cmap='Blues')\n",
    "plt.show()"
   ]
  },
  {
   "cell_type": "code",
   "execution_count": 50,
   "id": "4c1e1354",
   "metadata": {},
   "outputs": [],
   "source": [
    "model_cnn.save('./Models/model_cnn.h5')"
   ]
  },
  {
   "cell_type": "markdown",
   "id": "1a3db85f",
   "metadata": {},
   "source": [
    "### LSTM"
   ]
  },
  {
   "cell_type": "code",
   "execution_count": 51,
   "id": "08ba41be",
   "metadata": {},
   "outputs": [],
   "source": [
    "model_lstm = Sequential()\n",
    "model_lstm.add(keras.Input(shape=(50,)))\n",
    "model_lstm.add(layers.Embedding(vocab_size, 256, input_length=50))\n",
    "model_lstm.add(layers.LSTM(128,return_sequences=True))\n",
    "model_lstm.add(layers.LSTM(128))\n",
    "model_lstm.add(layers.Dense(512, activation=\"relu\"))\n",
    "model_lstm.add(layers.Dropout(0.2))\n",
    "model_lstm.add(layers.Dense(1, activation=\"sigmoid\"))"
   ]
  },
  {
   "cell_type": "code",
   "execution_count": 52,
   "id": "e6653b12",
   "metadata": {},
   "outputs": [
    {
     "name": "stdout",
     "output_type": "stream",
     "text": [
      "Model: \"sequential_3\"\n",
      "_________________________________________________________________\n",
      " Layer (type)                Output Shape              Param #   \n",
      "=================================================================\n",
      " embedding_2 (Embedding)     (None, 50, 256)           829696    \n",
      "                                                                 \n",
      " lstm (LSTM)                 (None, 50, 128)           197120    \n",
      "                                                                 \n",
      " lstm_1 (LSTM)               (None, 128)               131584    \n",
      "                                                                 \n",
      " dense_4 (Dense)             (None, 512)               66048     \n",
      "                                                                 \n",
      " dropout_2 (Dropout)         (None, 512)               0         \n",
      "                                                                 \n",
      " dense_5 (Dense)             (None, 1)                 513       \n",
      "                                                                 \n",
      "=================================================================\n",
      "Total params: 1,224,961\n",
      "Trainable params: 1,224,961\n",
      "Non-trainable params: 0\n",
      "_________________________________________________________________\n",
      "Epoch 1/5\n",
      "21/21 [==============================] - 49s 2s/step - loss: 0.5353 - accuracy: 0.7326 - val_loss: 0.4105 - val_accuracy: 0.8215\n",
      "Epoch 2/5\n",
      "21/21 [==============================] - 45s 2s/step - loss: 0.2932 - accuracy: 0.8773 - val_loss: 0.2406 - val_accuracy: 0.9044\n",
      "Epoch 3/5\n",
      "21/21 [==============================] - 46s 2s/step - loss: 0.1916 - accuracy: 0.9279 - val_loss: 0.2155 - val_accuracy: 0.9233\n",
      "Epoch 4/5\n",
      "21/21 [==============================] - 44s 2s/step - loss: 0.1600 - accuracy: 0.9428 - val_loss: 0.2108 - val_accuracy: 0.9229\n",
      "Epoch 5/5\n",
      "21/21 [==============================] - 44s 2s/step - loss: 0.1409 - accuracy: 0.9514 - val_loss: 0.2119 - val_accuracy: 0.9210\n"
     ]
    }
   ],
   "source": [
    "model_lstm.compile(loss=\"binary_crossentropy\", optimizer=\"adam\", metrics=[\"accuracy\"])\n",
    "model_lstm.summary()\n",
    "history_lstm = model_lstm.fit(X_train_w2v,y_train_w2v, validation_split=0.2, epochs=5, batch_size=1000)"
   ]
  },
  {
   "cell_type": "code",
   "execution_count": 53,
   "id": "af43f805",
   "metadata": {},
   "outputs": [
    {
     "name": "stdout",
     "output_type": "stream",
     "text": [
      "349/349 [==============================] - 14s 38ms/step\n"
     ]
    }
   ],
   "source": [
    "y_pred = model_lstm.predict(X_test_w2v)\n",
    "y_pred = np.transpose(np.round(y_pred).astype(int))[0]"
   ]
  },
  {
   "cell_type": "code",
   "execution_count": 54,
   "id": "8091c215",
   "metadata": {},
   "outputs": [
    {
     "name": "stdout",
     "output_type": "stream",
     "text": [
      "              precision    recall  f1-score   support\n",
      "\n",
      "           0       0.87      0.87      0.87      3219\n",
      "           1       0.95      0.95      0.95      7923\n",
      "\n",
      "    accuracy                           0.93     11142\n",
      "   macro avg       0.91      0.91      0.91     11142\n",
      "weighted avg       0.93      0.93      0.93     11142\n",
      "\n",
      "\n"
     ]
    },
    {
     "data": {
      "image/png": "[encoded data removed]",
      "text/plain": [
       "<Figure size 400x300 with 2 Axes>"
      ]
     },
     "metadata": {},
     "output_type": "display_data"
    }
   ],
   "source": [
    "print(classification_report(y_test_w2v, y_pred))\n",
    "print()\n",
    "cm = confusion_matrix(y_test_w2v, y_pred)\n",
    "disp = ConfusionMatrixDisplay(confusion_matrix = cm, \n",
    "                              display_labels = ['Negativo', 'Positivo'])\n",
    "plt.rcParams[\"figure.figsize\"] = (4,3)\n",
    "disp.plot(cmap='Blues')\n",
    "plt.show()"
   ]
  },
  {
   "cell_type": "code",
   "execution_count": 55,
   "id": "4c0f3554",
   "metadata": {},
   "outputs": [],
   "source": [
    "model_lstm.save('./Models/model_lstm.h5')"
   ]
  }
 ],
 "metadata": {
  "hide_input": false,
  "kernelspec": {
   "display_name": "Python 3 (ipykernel)",
   "language": "python",
   "name": "python3"
  },
  "language_info": {
   "codemirror_mode": {
    "name": "ipython",
    "version": 3
   },
   "file_extension": ".py",
   "mimetype": "text/x-python",
   "name": "python",
   "nbconvert_exporter": "python",
   "pygments_lexer": "ipython3",
   "version": "3.10.8"
  }
 },
 "nbformat": 4,
 "nbformat_minor": 5
}
